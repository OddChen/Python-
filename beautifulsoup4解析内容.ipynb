{
 "cells": [
  {
   "cell_type": "code",
   "execution_count": 6,
   "metadata": {
    "collapsed": true
   },
   "outputs": [
    {
     "name": "stdout",
     "output_type": "stream",
     "text": [
      "<a href=\"/scwsjkw/gzbd01/2020/5/28/3749dd91d8814192af554e398db3ea3d.shtml\" target=\"_blank\"><img alt=\"四川省新型冠状病毒肺炎疫情最新情况（...\" src=\"/scwsjkw/gzbd01/2020/5/28/3749dd91d8814192af554e398db3ea3d/images/3b85096031c84ce7b80cab2cb53c3abb.jpg\n",
      "\"/></a>\n",
      "/scwsjkw/gzbd01/2020/5/28/3749dd91d8814192af554e398db3ea3d.shtml\n"
     ]
    }
   ],
   "source": [
    "from bs4 import BeautifulSoup\n",
    "import requests\n",
    "\n",
    "url = \"http://wsjkw.sc.gov.cn/scwsjkw/gzbd/fyzt.shtml\"\n",
    "res = requests.get(url)\n",
    "res.encoding=\"utf-8\"\n",
    "html = res.text\n",
    "soup = BeautifulSoup(html)\n",
    "soup.find(\"h2\").text\n",
    "a = soup.find(\"a\")\n",
    "print(a)\n",
    "print(a.attrs[\"href\"])"
   ]
  },
  {
   "cell_type": "code",
   "execution_count": 9,
   "metadata": {},
   "outputs": [
    {
     "data": {
      "text/plain": [
       "<p><span style=\"font-size: 12pt;\">    5月27日0-24时，四川无新增新型冠状病毒肺炎确诊病例，无新增治愈出院病例，无新增疑似病例，无新增死亡病例。\n",
       "</span><br/>\n",
       "<span style=\"font-size: 12pt;\">    截至5月28日0时，全省累计报告新型冠状病毒肺炎确诊病例564例(其中境外输入24例），累计治愈出院558例，死亡3例，目前在院隔离治疗3例，116人尚在接受医学观察。\n",
       "</span><br/>\n",
       "<span style=\"font-size: 12pt;\">    5月27日0-24时，全省无新增无症状感染者，当日解除集中隔离医学观察0例，尚在集中隔离医学观察4例（其中境外输入1例，湖北输入2例，吉林输入1例）。\n",
       "</span><br/>\n",
       "<span style=\"font-size: 12pt;\">    全省183个县（市、区）全部为低风险区。</span></p>"
      ]
     },
     "execution_count": 9,
     "metadata": {},
     "output_type": "execute_result"
    }
   ],
   "source": [
    "url_new = \"http://wsjkw.sc.gov.cn\" + a.attrs[\"href\"]\n",
    "res = requests.get(url_new)\n",
    "res.encoding = \"utf-8\"\n",
    "soup = BeautifulSoup(res.text)\n",
    "soup.find(\"p\")"
   ]
  }
 ],
 "metadata": {
  "kernelspec": {
   "display_name": "Python 3",
   "language": "python",
   "name": "python3"
  },
  "language_info": {
   "codemirror_mode": {
    "name": "ipython",
    "version": 3
   },
   "file_extension": ".py",
   "mimetype": "text/x-python",
   "name": "python",
   "nbconvert_exporter": "python",
   "pygments_lexer": "ipython3",
   "version": "3.7.0"
  }
 },
 "nbformat": 4,
 "nbformat_minor": 4
}
